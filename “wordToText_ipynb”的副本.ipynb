{
  "nbformat": 4,
  "nbformat_minor": 0,
  "metadata": {
    "colab": {
      "name": "“wordToText.ipynb”的副本",
      "provenance": [],
      "collapsed_sections": [],
      "include_colab_link": true
    },
    "kernelspec": {
      "name": "python3",
      "display_name": "Python 3"
    },
    "accelerator": "GPU"
  },
  "cells": [
    {
      "cell_type": "markdown",
      "metadata": {
        "id": "view-in-github",
        "colab_type": "text"
      },
      "source": [
        "<a href=\"https://colab.research.google.com/github/CauchyLee1981/MediapipeHandtracking_GPU_Bitmap_Input/blob/master/%E2%80%9CwordToText_ipynb%E2%80%9D%E7%9A%84%E5%89%AF%E6%9C%AC.ipynb\" target=\"_parent\"><img src=\"https://colab.research.google.com/assets/colab-badge.svg\" alt=\"Open In Colab\"/></a>"
      ]
    },
    {
      "cell_type": "code",
      "metadata": {
        "id": "lKgxd2CjmD-v",
        "colab_type": "code",
        "colab": {}
      },
      "source": [
        ""
      ],
      "execution_count": 0,
      "outputs": []
    },
    {
      "cell_type": "code",
      "metadata": {
        "id": "oIAeHms6aAZx",
        "colab_type": "code",
        "colab": {}
      },
      "source": [
        ""
      ],
      "execution_count": 0,
      "outputs": []
    },
    {
      "cell_type": "markdown",
      "metadata": {
        "id": "JuElgBGPaA0U",
        "colab_type": "text"
      },
      "source": [
        ""
      ]
    },
    {
      "cell_type": "code",
      "metadata": {
        "id": "vnPD0VjZmORF",
        "colab_type": "code",
        "outputId": "fa71c09a-86bb-4393-dd17-1efd0013f26d",
        "colab": {
          "base_uri": "https://localhost:8080/",
          "height": 127
        }
      },
      "source": [
        "from google.colab import drive\n",
        "drive.mount('/content/drive')"
      ],
      "execution_count": 0,
      "outputs": [
        {
          "output_type": "stream",
          "text": [
            "Go to this URL in a browser: https://accounts.google.com/o/oauth2/auth?client_id=947318989803-6bn6qk8qdgf4n4g3pfee6491hc0brc4i.apps.googleusercontent.com&redirect_uri=urn%3aietf%3awg%3aoauth%3a2.0%3aoob&response_type=code&scope=email%20https%3a%2f%2fwww.googleapis.com%2fauth%2fdocs.test%20https%3a%2f%2fwww.googleapis.com%2fauth%2fdrive%20https%3a%2f%2fwww.googleapis.com%2fauth%2fdrive.photos.readonly%20https%3a%2f%2fwww.googleapis.com%2fauth%2fpeopleapi.readonly\n",
            "\n",
            "Enter your authorization code:\n",
            "··········\n",
            "Mounted at /content/drive\n"
          ],
          "name": "stdout"
        }
      ]
    },
    {
      "cell_type": "code",
      "metadata": {
        "id": "KNh09kglvdS_",
        "colab_type": "code",
        "outputId": "5ebbc601-08f3-4a2c-c82f-d4e62b0b4b0f",
        "colab": {
          "base_uri": "https://localhost:8080/",
          "height": 35
        }
      },
      "source": [
        "cd drive/My\\ Drive/Colab\\ Notebooks"
      ],
      "execution_count": 0,
      "outputs": [
        {
          "output_type": "stream",
          "text": [
            "/content/drive/My Drive/Colab Notebooks\n"
          ],
          "name": "stdout"
        }
      ]
    },
    {
      "cell_type": "code",
      "metadata": {
        "id": "dTFygp2HmOww",
        "colab_type": "code",
        "colab": {}
      },
      "source": [
        "import os\n",
        "import numpy as np\n",
        "from keras.utils import np_utils\n",
        "\n",
        "\n",
        "def my_generator(path=\"data\", batch_size=50, n_classes=2, frame_num=32, shift=8):\n",
        "    key_point=25\n",
        "    channel=3\n",
        "    \n",
        "    if not os.path.exists(path):\n",
        "        print(path, \"is not exist\\n\")\n",
        "        return\n",
        "\n",
        "    train_data = []\n",
        "    counter = 0\n",
        "    for root, folders, _ in os.walk(path): break\n",
        "    print(root,folders)\n",
        "    while True:\n",
        "      for folder in folders:\n",
        "        for root2, _, files in os.walk(os.path.join(root, folder)): break\n",
        "        print(\"\\n\",root2,files)\n",
        "        for file in files:\n",
        "          with open(os.path.join(root2, file)) as tmp_file:\n",
        "            a = tmp_file.read()\n",
        "            b = np.array(a.split()).reshape(-1, key_point, channel)\n",
        "            c = b[:,:,:2]\n",
        "            b = c\n",
        "            for i in range(5):\n",
        "              start = i * shift +frame_num\n",
        "              end = start + frame_num\n",
        "              X = b[start:end]\n",
        "              X = X.reshape(1, frame_num, key_point, channel-1)\n",
        "              X1 = b[(start+1):(end+1)]\n",
        "              X1 = X1.reshape(1, frame_num, key_point, channel-1)\n",
        "              y = np_utils.to_categorical(int(folder), num_classes=n_classes)\n",
        "              y = y.reshape(1, len(y))\n",
        "              yield [X,X1], y\n",
        "\n",
        "\n",
        "\n",
        "gen = my_generator()\n",
        "i = 0\n",
        "\n",
        "for X,y in gen:\n",
        "  print(X)\n",
        "  #print(y)\n",
        "  if i >= 50: \n",
        "    break\n",
        "  else:\n",
        "    i=i+1\n"
      ],
      "execution_count": 0,
      "outputs": []
    },
    {
      "cell_type": "code",
      "metadata": {
        "id": "oa5OJ8Uf3lj6",
        "colab_type": "code",
        "colab": {}
      },
      "source": [
        ""
      ],
      "execution_count": 0,
      "outputs": []
    },
    {
      "cell_type": "code",
      "metadata": {
        "id": "-BykipiO3mP1",
        "colab_type": "code",
        "outputId": "08f798d1-22ec-468e-f135-1f1f3beff5c9",
        "colab": {
          "base_uri": "https://localhost:8080/",
          "height": 1000
        }
      },
      "source": [
        "import time\n",
        "\n",
        "import argparse\n",
        "import json\n",
        "import os\n",
        "\n",
        "from keras.callbacks import EarlyStopping, ReduceLROnPlateau\n",
        "from keras.layers import *\n",
        "from keras.layers.convolutional import *\n",
        "from keras.layers.core import *\n",
        "from keras.models import Model\n",
        "from keras.optimizers import adam\n",
        "\n",
        "\n",
        "def one_obj(frame_l=32, joint_n=25, joint_d=3, words_size=500):\n",
        "    input_joints = Input(name='joints', shape=(frame_l, joint_n, joint_d))\n",
        "    input_joints_diff = Input(name='joints_diff', shape=(frame_l, joint_n, joint_d))\n",
        "\n",
        "    x = Conv2D(filters=64, kernel_size=(1, 1), padding='same')(input_joints)\n",
        "    x = BatchNormalization()(x)\n",
        "    x = LeakyReLU()(x)  # @LeakyReLU()(x)\n",
        "\n",
        "    x = Conv2D(filters=32, kernel_size=(3, 1), padding='same')(x)\n",
        "    x = BatchNormalization()(x)\n",
        "    x = LeakyReLU()(x)  # LeakyReLU()(x)\n",
        "\n",
        "    x = Permute((1, 3, 2))(x)\n",
        "\n",
        "    x = Conv2D(filters=32, kernel_size=(3, 3), padding='same')(x)\n",
        "    x = BatchNormalization()(x)\n",
        "    x = LeakyReLU()(x)  # LeakyReLU()(x)\n",
        "    x = MaxPool2D(pool_size=(2, 2))(x)\n",
        "    x = Conv2D(filters=64, kernel_size=(3, 3), padding='same')(x)\n",
        "    x = LeakyReLU()(x)  # BatchNormalization()(x)\n",
        "    x = MaxPool2D(pool_size=(2, 2))(x)\n",
        "\n",
        "    x_d = Conv2D(filters=64, kernel_size=(1, 1), padding='same')(input_joints_diff)\n",
        "    x_d = BatchNormalization()(x_d)\n",
        "    x_d = LeakyReLU()(x_d)  # LeakyReLU()(x_d)\n",
        "\n",
        "    x_d = Conv2D(filters=32, kernel_size=(3, 1), padding='same')(x_d)\n",
        "    x_d = BatchNormalization()(x_d)\n",
        "    x_d = LeakyReLU()(x_d)  # LeakyReLU()(x_d)\n",
        "\n",
        "    x_d = Permute((1, 3, 2))(x_d)\n",
        "\n",
        "    x_d = Conv2D(filters=32, kernel_size=(3, 3), padding='same')(x_d)\n",
        "    x_d = BatchNormalization()(x_d)\n",
        "    x_d = LeakyReLU()(x_d)  # LeakyReLU()(x_d)\n",
        "    x_d = MaxPool2D(pool_size=(2, 2))(x_d)\n",
        "    x_d = Conv2D(filters=64, kernel_size=(3, 3), padding='same')(x_d)\n",
        "    x_d = BatchNormalization()(x_d)\n",
        "    x_d = LeakyReLU()(x_d)  # LeakyReLU()(x_d)\n",
        "    x_d = MaxPool2D(pool_size=(2, 2))(x_d)\n",
        "\n",
        "    x = concatenate([x, x_d], axis=-1)\n",
        "\n",
        "    x = Conv2D(filters=128, kernel_size=(1, 1), padding='same')(x)\n",
        "    x = BatchNormalization()(x)\n",
        "    x = LeakyReLU()(x)  # LeakyReLU()(x)\n",
        "    x = MaxPool2D(pool_size=(2, 2))(x)\n",
        "    x = Dropout(0.1)(x)\n",
        "\n",
        "    x = Conv2D(filters=256, kernel_size=(1, 1), padding='same')(x)\n",
        "    x = BatchNormalization()(x)\n",
        "    x = LeakyReLU()(x)  # LeakyReLU()(x)\n",
        "    x = MaxPool2D(pool_size=(2, 2))(x)\n",
        "    x = Dropout(0.1)(x)\n",
        "    x = Flatten()(x)\n",
        "    x = Dense(256)(x)\n",
        "    x = LeakyReLU()(x)  # LeakyReLU()(x)\n",
        "    x = Dense(words_size, activation='softmax')(x)\n",
        "    return Model([input_joints, input_joints_diff], x)\n",
        "\n",
        "\n",
        "model = one_obj(32, 25, 3, 2)\n",
        "opt = adam(0.005, epsilon=1e-8)\n",
        "model.compile(opt, 'categorical_crossentropy', metrics=['acc'])\n",
        "model.summary()\n",
        "\n",
        "early = EarlyStopping(monitor=\"loss\", mode=\"min\", patience=10)\n",
        "lr_change = ReduceLROnPlateau(monitor=\"loss\", verbose=1, factor=0.2, patience=100, min_lr=1e-8, cooldown=100)\n",
        "lr_change.set_model(model)\n",
        "lr_change.on_train_begin()\n",
        "best_acc = 0.0\n",
        "\n",
        "\n",
        "\n",
        "\n",
        "\n"
      ],
      "execution_count": 0,
      "outputs": [
        {
          "output_type": "stream",
          "text": [
            "Model: \"model_2\"\n",
            "__________________________________________________________________________________________________\n",
            "Layer (type)                    Output Shape         Param #     Connected to                     \n",
            "==================================================================================================\n",
            "joints_diff (InputLayer)        (None, 32, 25, 3)    0                                            \n",
            "__________________________________________________________________________________________________\n",
            "joints (InputLayer)             (None, 32, 25, 3)    0                                            \n",
            "__________________________________________________________________________________________________\n",
            "conv2d_15 (Conv2D)              (None, 32, 25, 64)   256         joints_diff[0][0]                \n",
            "__________________________________________________________________________________________________\n",
            "conv2d_11 (Conv2D)              (None, 32, 25, 64)   256         joints[0][0]                     \n",
            "__________________________________________________________________________________________________\n",
            "batch_normalization_13 (BatchNo (None, 32, 25, 64)   256         conv2d_15[0][0]                  \n",
            "__________________________________________________________________________________________________\n",
            "batch_normalization_10 (BatchNo (None, 32, 25, 64)   256         conv2d_11[0][0]                  \n",
            "__________________________________________________________________________________________________\n",
            "leaky_re_lu_16 (LeakyReLU)      (None, 32, 25, 64)   0           batch_normalization_13[0][0]     \n",
            "__________________________________________________________________________________________________\n",
            "leaky_re_lu_12 (LeakyReLU)      (None, 32, 25, 64)   0           batch_normalization_10[0][0]     \n",
            "__________________________________________________________________________________________________\n",
            "conv2d_16 (Conv2D)              (None, 32, 25, 32)   6176        leaky_re_lu_16[0][0]             \n",
            "__________________________________________________________________________________________________\n",
            "conv2d_12 (Conv2D)              (None, 32, 25, 32)   6176        leaky_re_lu_12[0][0]             \n",
            "__________________________________________________________________________________________________\n",
            "batch_normalization_14 (BatchNo (None, 32, 25, 32)   128         conv2d_16[0][0]                  \n",
            "__________________________________________________________________________________________________\n",
            "batch_normalization_11 (BatchNo (None, 32, 25, 32)   128         conv2d_12[0][0]                  \n",
            "__________________________________________________________________________________________________\n",
            "leaky_re_lu_17 (LeakyReLU)      (None, 32, 25, 32)   0           batch_normalization_14[0][0]     \n",
            "__________________________________________________________________________________________________\n",
            "leaky_re_lu_13 (LeakyReLU)      (None, 32, 25, 32)   0           batch_normalization_11[0][0]     \n",
            "__________________________________________________________________________________________________\n",
            "permute_4 (Permute)             (None, 32, 32, 25)   0           leaky_re_lu_17[0][0]             \n",
            "__________________________________________________________________________________________________\n",
            "permute_3 (Permute)             (None, 32, 32, 25)   0           leaky_re_lu_13[0][0]             \n",
            "__________________________________________________________________________________________________\n",
            "conv2d_17 (Conv2D)              (None, 32, 32, 32)   7232        permute_4[0][0]                  \n",
            "__________________________________________________________________________________________________\n",
            "conv2d_13 (Conv2D)              (None, 32, 32, 32)   7232        permute_3[0][0]                  \n",
            "__________________________________________________________________________________________________\n",
            "batch_normalization_15 (BatchNo (None, 32, 32, 32)   128         conv2d_17[0][0]                  \n",
            "__________________________________________________________________________________________________\n",
            "batch_normalization_12 (BatchNo (None, 32, 32, 32)   128         conv2d_13[0][0]                  \n",
            "__________________________________________________________________________________________________\n",
            "leaky_re_lu_18 (LeakyReLU)      (None, 32, 32, 32)   0           batch_normalization_15[0][0]     \n",
            "__________________________________________________________________________________________________\n",
            "leaky_re_lu_14 (LeakyReLU)      (None, 32, 32, 32)   0           batch_normalization_12[0][0]     \n",
            "__________________________________________________________________________________________________\n",
            "max_pooling2d_9 (MaxPooling2D)  (None, 16, 16, 32)   0           leaky_re_lu_18[0][0]             \n",
            "__________________________________________________________________________________________________\n",
            "max_pooling2d_7 (MaxPooling2D)  (None, 16, 16, 32)   0           leaky_re_lu_14[0][0]             \n",
            "__________________________________________________________________________________________________\n",
            "conv2d_18 (Conv2D)              (None, 16, 16, 64)   18496       max_pooling2d_9[0][0]            \n",
            "__________________________________________________________________________________________________\n",
            "conv2d_14 (Conv2D)              (None, 16, 16, 64)   18496       max_pooling2d_7[0][0]            \n",
            "__________________________________________________________________________________________________\n",
            "batch_normalization_16 (BatchNo (None, 16, 16, 64)   256         conv2d_18[0][0]                  \n",
            "__________________________________________________________________________________________________\n",
            "leaky_re_lu_15 (LeakyReLU)      (None, 16, 16, 64)   0           conv2d_14[0][0]                  \n",
            "__________________________________________________________________________________________________\n",
            "leaky_re_lu_19 (LeakyReLU)      (None, 16, 16, 64)   0           batch_normalization_16[0][0]     \n",
            "__________________________________________________________________________________________________\n",
            "max_pooling2d_8 (MaxPooling2D)  (None, 8, 8, 64)     0           leaky_re_lu_15[0][0]             \n",
            "__________________________________________________________________________________________________\n",
            "max_pooling2d_10 (MaxPooling2D) (None, 8, 8, 64)     0           leaky_re_lu_19[0][0]             \n",
            "__________________________________________________________________________________________________\n",
            "concatenate_2 (Concatenate)     (None, 8, 8, 128)    0           max_pooling2d_8[0][0]            \n",
            "                                                                 max_pooling2d_10[0][0]           \n",
            "__________________________________________________________________________________________________\n",
            "conv2d_19 (Conv2D)              (None, 8, 8, 128)    16512       concatenate_2[0][0]              \n",
            "__________________________________________________________________________________________________\n",
            "batch_normalization_17 (BatchNo (None, 8, 8, 128)    512         conv2d_19[0][0]                  \n",
            "__________________________________________________________________________________________________\n",
            "leaky_re_lu_20 (LeakyReLU)      (None, 8, 8, 128)    0           batch_normalization_17[0][0]     \n",
            "__________________________________________________________________________________________________\n",
            "max_pooling2d_11 (MaxPooling2D) (None, 4, 4, 128)    0           leaky_re_lu_20[0][0]             \n",
            "__________________________________________________________________________________________________\n",
            "dropout_3 (Dropout)             (None, 4, 4, 128)    0           max_pooling2d_11[0][0]           \n",
            "__________________________________________________________________________________________________\n",
            "conv2d_20 (Conv2D)              (None, 4, 4, 256)    33024       dropout_3[0][0]                  \n",
            "__________________________________________________________________________________________________\n",
            "batch_normalization_18 (BatchNo (None, 4, 4, 256)    1024        conv2d_20[0][0]                  \n",
            "__________________________________________________________________________________________________\n",
            "leaky_re_lu_21 (LeakyReLU)      (None, 4, 4, 256)    0           batch_normalization_18[0][0]     \n",
            "__________________________________________________________________________________________________\n",
            "max_pooling2d_12 (MaxPooling2D) (None, 2, 2, 256)    0           leaky_re_lu_21[0][0]             \n",
            "__________________________________________________________________________________________________\n",
            "dropout_4 (Dropout)             (None, 2, 2, 256)    0           max_pooling2d_12[0][0]           \n",
            "__________________________________________________________________________________________________\n",
            "flatten_2 (Flatten)             (None, 1024)         0           dropout_4[0][0]                  \n",
            "__________________________________________________________________________________________________\n",
            "dense_3 (Dense)                 (None, 256)          262400      flatten_2[0][0]                  \n",
            "__________________________________________________________________________________________________\n",
            "leaky_re_lu_22 (LeakyReLU)      (None, 256)          0           dense_3[0][0]                    \n",
            "__________________________________________________________________________________________________\n",
            "dense_4 (Dense)                 (None, 2)            514         leaky_re_lu_22[0][0]             \n",
            "==================================================================================================\n",
            "Total params: 379,586\n",
            "Trainable params: 378,178\n",
            "Non-trainable params: 1,408\n",
            "__________________________________________________________________________________________________\n"
          ],
          "name": "stdout"
        }
      ]
    },
    {
      "cell_type": "code",
      "metadata": {
        "id": "Szmd2rmg3mVi",
        "colab_type": "code",
        "outputId": "4045d622-b873-4e92-d0d8-334264847738",
        "colab": {
          "base_uri": "https://localhost:8080/",
          "height": 1000
        }
      },
      "source": [
        "\n",
        "train_generator = my_generator()\n",
        "\n",
        "# Train model on dataset\n",
        "model.fit_generator(generator=train_generator,\n",
        "          steps_per_epoch=50,\n",
        "          epochs=20)"
      ],
      "execution_count": 0,
      "outputs": [
        {
          "output_type": "stream",
          "text": [
            "Epoch 1/20\n",
            "data ['000', '001']\n",
            "\n",
            " data/000 ['P01_01_00_4._body.txt', 'P01_01_00_0._body.txt', 'P01_01_00_3._body.txt', 'P01_01_00_2._body.txt', 'P01_01_00_1._body.txt']\n",
            "13/50 [======>.......................] - ETA: 6s - loss: 0.0469 - acc: 1.0000\n",
            " data/001 ['P01_01_01_4._body.txt', 'P01_01_01_0._body.txt', 'P01_01_01_2._body.txt', 'P01_01_01_3._body.txt', 'P01_01_01_1._body.txt']\n",
            "39/50 [======================>.......] - ETA: 0s - loss: 5.8016 - acc: 0.6410\n",
            " data/000 ['P01_01_00_4._body.txt', 'P01_01_00_0._body.txt', 'P01_01_00_3._body.txt', 'P01_01_00_2._body.txt', 'P01_01_00_1._body.txt']\n",
            "50/50 [==============================] - 3s 68ms/step - loss: 8.0712 - acc: 0.5000\n",
            "Epoch 2/20\n",
            "13/50 [======>.......................] - ETA: 0s - loss: 1.1921e-07 - acc: 1.0000\n",
            " data/001 ['P01_01_01_4._body.txt', 'P01_01_01_0._body.txt', 'P01_01_01_2._body.txt', 'P01_01_01_3._body.txt', 'P01_01_01_1._body.txt']\n",
            "39/50 [======================>.......] - ETA: 0s - loss: 5.7860 - acc: 0.6410\n",
            " data/000 ['P01_01_00_4._body.txt', 'P01_01_00_0._body.txt', 'P01_01_00_3._body.txt', 'P01_01_00_2._body.txt', 'P01_01_00_1._body.txt']\n",
            "50/50 [==============================] - 1s 27ms/step - loss: 8.0590 - acc: 0.5000\n",
            "Epoch 3/20\n",
            "13/50 [======>.......................] - ETA: 1s - loss: 1.1921e-07 - acc: 1.0000\n",
            " data/001 ['P01_01_01_4._body.txt', 'P01_01_01_0._body.txt', 'P01_01_01_2._body.txt', 'P01_01_01_3._body.txt', 'P01_01_01_1._body.txt']\n",
            "39/50 [======================>.......] - ETA: 0s - loss: 5.7860 - acc: 0.6410\n",
            " data/000 ['P01_01_00_4._body.txt', 'P01_01_00_0._body.txt', 'P01_01_00_3._body.txt', 'P01_01_00_2._body.txt', 'P01_01_00_1._body.txt']\n",
            "50/50 [==============================] - 1s 28ms/step - loss: 8.0590 - acc: 0.5000\n",
            "Epoch 4/20\n",
            "13/50 [======>.......................] - ETA: 0s - loss: 1.1921e-07 - acc: 1.0000\n",
            " data/001 ['P01_01_01_4._body.txt', 'P01_01_01_0._body.txt', 'P01_01_01_2._body.txt', 'P01_01_01_3._body.txt', 'P01_01_01_1._body.txt']\n",
            "39/50 [======================>.......] - ETA: 0s - loss: 5.7860 - acc: 0.6410\n",
            " data/000 ['P01_01_00_4._body.txt', 'P01_01_00_0._body.txt', 'P01_01_00_3._body.txt', 'P01_01_00_2._body.txt', 'P01_01_00_1._body.txt']\n",
            "50/50 [==============================] - 1s 27ms/step - loss: 8.0590 - acc: 0.5000\n",
            "Epoch 5/20\n",
            "13/50 [======>.......................] - ETA: 1s - loss: 1.1921e-07 - acc: 1.0000\n",
            " data/001 ['P01_01_01_4._body.txt', 'P01_01_01_0._body.txt', 'P01_01_01_2._body.txt', 'P01_01_01_3._body.txt', 'P01_01_01_1._body.txt']\n",
            "39/50 [======================>.......] - ETA: 0s - loss: 5.7860 - acc: 0.6410\n",
            " data/000 ['P01_01_00_4._body.txt', 'P01_01_00_0._body.txt', 'P01_01_00_3._body.txt', 'P01_01_00_2._body.txt', 'P01_01_00_1._body.txt']\n",
            "50/50 [==============================] - 1s 28ms/step - loss: 8.0590 - acc: 0.5000\n",
            "Epoch 6/20\n",
            "13/50 [======>.......................] - ETA: 1s - loss: 1.1921e-07 - acc: 1.0000\n",
            " data/001 ['P01_01_01_4._body.txt', 'P01_01_01_0._body.txt', 'P01_01_01_2._body.txt', 'P01_01_01_3._body.txt', 'P01_01_01_1._body.txt']\n",
            "39/50 [======================>.......] - ETA: 0s - loss: 5.7860 - acc: 0.6410\n",
            " data/000 ['P01_01_00_4._body.txt', 'P01_01_00_0._body.txt', 'P01_01_00_3._body.txt', 'P01_01_00_2._body.txt', 'P01_01_00_1._body.txt']\n",
            "50/50 [==============================] - 1s 28ms/step - loss: 8.0590 - acc: 0.5000\n",
            "Epoch 7/20\n",
            "13/50 [======>.......................] - ETA: 1s - loss: 1.1921e-07 - acc: 1.0000\n",
            " data/001 ['P01_01_01_4._body.txt', 'P01_01_01_0._body.txt', 'P01_01_01_2._body.txt', 'P01_01_01_3._body.txt', 'P01_01_01_1._body.txt']\n",
            "39/50 [======================>.......] - ETA: 0s - loss: 5.7860 - acc: 0.6410\n",
            " data/000 ['P01_01_00_4._body.txt', 'P01_01_00_0._body.txt', 'P01_01_00_3._body.txt', 'P01_01_00_2._body.txt', 'P01_01_00_1._body.txt']\n",
            "50/50 [==============================] - 1s 29ms/step - loss: 8.0590 - acc: 0.5000\n",
            "Epoch 8/20\n",
            "13/50 [======>.......................] - ETA: 1s - loss: 1.1921e-07 - acc: 1.0000\n",
            " data/001 ['P01_01_01_4._body.txt', 'P01_01_01_0._body.txt', 'P01_01_01_2._body.txt', 'P01_01_01_3._body.txt', 'P01_01_01_1._body.txt']\n",
            "39/50 [======================>.......] - ETA: 0s - loss: 5.7860 - acc: 0.6410\n",
            " data/000 ['P01_01_00_4._body.txt', 'P01_01_00_0._body.txt', 'P01_01_00_3._body.txt', 'P01_01_00_2._body.txt', 'P01_01_00_1._body.txt']\n",
            "50/50 [==============================] - 1s 29ms/step - loss: 8.0590 - acc: 0.5000\n",
            "Epoch 9/20\n",
            "13/50 [======>.......................] - ETA: 1s - loss: 1.1921e-07 - acc: 1.0000\n",
            " data/001 ['P01_01_01_4._body.txt', 'P01_01_01_0._body.txt', 'P01_01_01_2._body.txt', 'P01_01_01_3._body.txt', 'P01_01_01_1._body.txt']\n",
            "39/50 [======================>.......] - ETA: 0s - loss: 5.7860 - acc: 0.6410\n",
            " data/000 ['P01_01_00_4._body.txt', 'P01_01_00_0._body.txt', 'P01_01_00_3._body.txt', 'P01_01_00_2._body.txt', 'P01_01_00_1._body.txt']\n",
            "50/50 [==============================] - 1s 28ms/step - loss: 8.0590 - acc: 0.5000\n",
            "Epoch 10/20\n",
            "13/50 [======>.......................] - ETA: 1s - loss: 1.1921e-07 - acc: 1.0000\n",
            " data/001 ['P01_01_01_4._body.txt', 'P01_01_01_0._body.txt', 'P01_01_01_2._body.txt', 'P01_01_01_3._body.txt', 'P01_01_01_1._body.txt']\n",
            "39/50 [======================>.......] - ETA: 0s - loss: 5.7860 - acc: 0.6410\n",
            " data/000 ['P01_01_00_4._body.txt', 'P01_01_00_0._body.txt', 'P01_01_00_3._body.txt', 'P01_01_00_2._body.txt', 'P01_01_00_1._body.txt']\n",
            "50/50 [==============================] - 1s 28ms/step - loss: 8.0590 - acc: 0.5000\n",
            "Epoch 11/20\n",
            "13/50 [======>.......................] - ETA: 1s - loss: 1.1921e-07 - acc: 1.0000\n",
            " data/001 ['P01_01_01_4._body.txt', 'P01_01_01_0._body.txt', 'P01_01_01_2._body.txt', 'P01_01_01_3._body.txt', 'P01_01_01_1._body.txt']\n",
            "39/50 [======================>.......] - ETA: 0s - loss: 5.7860 - acc: 0.6410\n",
            " data/000 ['P01_01_00_4._body.txt', 'P01_01_00_0._body.txt', 'P01_01_00_3._body.txt', 'P01_01_00_2._body.txt', 'P01_01_00_1._body.txt']\n",
            "50/50 [==============================] - 1s 29ms/step - loss: 8.0590 - acc: 0.5000\n",
            "Epoch 12/20\n",
            "13/50 [======>.......................] - ETA: 1s - loss: 1.1921e-07 - acc: 1.0000\n",
            " data/001 ['P01_01_01_4._body.txt', 'P01_01_01_0._body.txt', 'P01_01_01_2._body.txt', 'P01_01_01_3._body.txt', 'P01_01_01_1._body.txt']\n",
            "39/50 [======================>.......] - ETA: 0s - loss: 5.7860 - acc: 0.6410\n",
            " data/000 ['P01_01_00_4._body.txt', 'P01_01_00_0._body.txt', 'P01_01_00_3._body.txt', 'P01_01_00_2._body.txt', 'P01_01_00_1._body.txt']\n",
            "50/50 [==============================] - 1s 28ms/step - loss: 8.0590 - acc: 0.5000\n",
            "Epoch 13/20\n",
            "13/50 [======>.......................] - ETA: 1s - loss: 1.1921e-07 - acc: 1.0000\n",
            " data/001 ['P01_01_01_4._body.txt', 'P01_01_01_0._body.txt', 'P01_01_01_2._body.txt', 'P01_01_01_3._body.txt', 'P01_01_01_1._body.txt']\n",
            "39/50 [======================>.......] - ETA: 0s - loss: 5.7860 - acc: 0.6410\n",
            " data/000 ['P01_01_00_4._body.txt', 'P01_01_00_0._body.txt', 'P01_01_00_3._body.txt', 'P01_01_00_2._body.txt', 'P01_01_00_1._body.txt']\n",
            "50/50 [==============================] - 1s 28ms/step - loss: 8.0590 - acc: 0.5000\n",
            "Epoch 14/20\n",
            "13/50 [======>.......................] - ETA: 0s - loss: 1.1921e-07 - acc: 1.0000\n",
            " data/001 ['P01_01_01_4._body.txt', 'P01_01_01_0._body.txt', 'P01_01_01_2._body.txt', 'P01_01_01_3._body.txt', 'P01_01_01_1._body.txt']\n",
            "39/50 [======================>.......] - ETA: 0s - loss: 5.7860 - acc: 0.6410\n",
            " data/000 ['P01_01_00_4._body.txt', 'P01_01_00_0._body.txt', 'P01_01_00_3._body.txt', 'P01_01_00_2._body.txt', 'P01_01_00_1._body.txt']\n",
            "50/50 [==============================] - 1s 27ms/step - loss: 8.0590 - acc: 0.5000\n",
            "Epoch 15/20\n",
            "13/50 [======>.......................] - ETA: 1s - loss: 1.1921e-07 - acc: 1.0000\n",
            " data/001 ['P01_01_01_4._body.txt', 'P01_01_01_0._body.txt', 'P01_01_01_2._body.txt', 'P01_01_01_3._body.txt', 'P01_01_01_1._body.txt']\n",
            "39/50 [======================>.......] - ETA: 0s - loss: 5.7860 - acc: 0.6410\n",
            " data/000 ['P01_01_00_4._body.txt', 'P01_01_00_0._body.txt', 'P01_01_00_3._body.txt', 'P01_01_00_2._body.txt', 'P01_01_00_1._body.txt']\n",
            "50/50 [==============================] - 1s 28ms/step - loss: 8.0590 - acc: 0.5000\n",
            "Epoch 16/20\n",
            "13/50 [======>.......................] - ETA: 1s - loss: 1.1921e-07 - acc: 1.0000\n",
            " data/001 ['P01_01_01_4._body.txt', 'P01_01_01_0._body.txt', 'P01_01_01_2._body.txt', 'P01_01_01_3._body.txt', 'P01_01_01_1._body.txt']\n",
            "39/50 [======================>.......] - ETA: 0s - loss: 5.7860 - acc: 0.6410\n",
            " data/000 ['P01_01_00_4._body.txt', 'P01_01_00_0._body.txt', 'P01_01_00_3._body.txt', 'P01_01_00_2._body.txt', 'P01_01_00_1._body.txt']\n",
            "50/50 [==============================] - 1s 28ms/step - loss: 8.0590 - acc: 0.5000\n",
            "Epoch 17/20\n",
            "13/50 [======>.......................] - ETA: 0s - loss: 1.1921e-07 - acc: 1.0000\n",
            " data/001 ['P01_01_01_4._body.txt', 'P01_01_01_0._body.txt', 'P01_01_01_2._body.txt', 'P01_01_01_3._body.txt', 'P01_01_01_1._body.txt']\n",
            "39/50 [======================>.......] - ETA: 0s - loss: 5.7860 - acc: 0.6410\n",
            " data/000 ['P01_01_00_4._body.txt', 'P01_01_00_0._body.txt', 'P01_01_00_3._body.txt', 'P01_01_00_2._body.txt', 'P01_01_00_1._body.txt']\n",
            "50/50 [==============================] - 1s 27ms/step - loss: 8.0590 - acc: 0.5000\n",
            "Epoch 18/20\n",
            "13/50 [======>.......................] - ETA: 1s - loss: 1.1921e-07 - acc: 1.0000\n",
            " data/001 ['P01_01_01_4._body.txt', 'P01_01_01_0._body.txt', 'P01_01_01_2._body.txt', 'P01_01_01_3._body.txt', 'P01_01_01_1._body.txt']\n",
            "39/50 [======================>.......] - ETA: 0s - loss: 5.7860 - acc: 0.6410\n",
            " data/000 ['P01_01_00_4._body.txt', 'P01_01_00_0._body.txt', 'P01_01_00_3._body.txt', 'P01_01_00_2._body.txt', 'P01_01_00_1._body.txt']\n",
            "50/50 [==============================] - 1s 28ms/step - loss: 8.0590 - acc: 0.5000\n",
            "Epoch 19/20\n",
            "13/50 [======>.......................] - ETA: 1s - loss: 1.1921e-07 - acc: 1.0000\n",
            " data/001 ['P01_01_01_4._body.txt', 'P01_01_01_0._body.txt', 'P01_01_01_2._body.txt', 'P01_01_01_3._body.txt', 'P01_01_01_1._body.txt']\n",
            "39/50 [======================>.......] - ETA: 0s - loss: 5.7860 - acc: 0.6410\n",
            " data/000 ['P01_01_00_4._body.txt', 'P01_01_00_0._body.txt', 'P01_01_00_3._body.txt', 'P01_01_00_2._body.txt', 'P01_01_00_1._body.txt']\n",
            "50/50 [==============================] - 1s 28ms/step - loss: 8.0590 - acc: 0.5000\n",
            "Epoch 20/20\n",
            "13/50 [======>.......................] - ETA: 1s - loss: 1.1921e-07 - acc: 1.0000\n",
            " data/001 ['P01_01_01_4._body.txt', 'P01_01_01_0._body.txt', 'P01_01_01_2._body.txt', 'P01_01_01_3._body.txt', 'P01_01_01_1._body.txt']\n",
            "39/50 [======================>.......] - ETA: 0s - loss: 5.7860 - acc: 0.6410\n",
            " data/000 ['P01_01_00_4._body.txt', 'P01_01_00_0._body.txt', 'P01_01_00_3._body.txt', 'P01_01_00_2._body.txt', 'P01_01_00_1._body.txt']\n",
            "50/50 [==============================] - 1s 27ms/step - loss: 8.0590 - acc: 0.5000\n"
          ],
          "name": "stdout"
        },
        {
          "output_type": "execute_result",
          "data": {
            "text/plain": [
              "<keras.callbacks.History at 0x7f2a98001cc0>"
            ]
          },
          "metadata": {
            "tags": []
          },
          "execution_count": 14
        }
      ]
    },
    {
      "cell_type": "code",
      "metadata": {
        "id": "XOfck48Kq9PX",
        "colab_type": "code",
        "colab": {}
      },
      "source": [
        ""
      ],
      "execution_count": 0,
      "outputs": []
    },
    {
      "cell_type": "code",
      "metadata": {
        "id": "qaRq3eioaEQu",
        "colab_type": "code",
        "outputId": "c59412a0-e720-4808-8f20-c67b3e076c21",
        "colab": {
          "base_uri": "https://localhost:8080/",
          "height": 125
        }
      },
      "source": [
        "import numpy as np\n",
        " \n",
        "a = np.array([[1,2,3],\n",
        "        [3,4,5],\n",
        "        [4,5,6]])\n",
        "print(a)\n",
        "# 从某个索引处开始切割\n",
        "print('从数组索引 a[1:] 处开始切割')\n",
        "print(a[1:,1:])"
      ],
      "execution_count": 0,
      "outputs": [
        {
          "output_type": "stream",
          "text": [
            "[[1 2 3]\n",
            " [3 4 5]\n",
            " [4 5 6]]\n",
            "从数组索引 a[1:] 处开始切割\n",
            "[[4 5]\n",
            " [5 6]]\n"
          ],
          "name": "stdout"
        }
      ]
    }
  ]
}